{
  "cells": [
    {
      "cell_type": "markdown",
      "metadata": {
        "id": "view-in-github",
        "colab_type": "text"
      },
      "source": [
        "<a href=\"https://colab.research.google.com/github/DeepLearningSaeid/New-Type-of-Deep-Learning/blob/master/SWAG_Exp_3_MNIST_v2.ipynb\" target=\"_parent\"><img src=\"https://colab.research.google.com/assets/colab-badge.svg\" alt=\"Open In Colab\"/></a>"
      ]
    },
    {
      "cell_type": "code",
      "execution_count": 1,
      "metadata": {
        "id": "kQ-XseixSDeO"
      },
      "outputs": [],
      "source": [
        "\n",
        "# import os\n",
        "# os.environ['KERAS_BACKEND'] = 'tensorflow'\n",
        "############################################################################\n",
        "import timeit\n",
        "from keras.models import Model,Sequential\n",
        "from keras.layers import Input, Embedding, LSTM, Dense,concatenate,  Dropout, Flatten, Conv2D, MaxPool2D, Activation,MaxPooling2D\n",
        "from keras.utils.np_utils import to_categorical # convert to one-hot-encoding\n",
        "from keras.optimizers import RMSprop\n",
        "from keras.preprocessing.image import ImageDataGenerator\n",
        "from keras.callbacks import ReduceLROnPlateau\n",
        "from keras import backend as K\n",
        "from keras.utils.generic_utils import get_custom_objects\n",
        "from keras.datasets import cifar10\n",
        "from keras.utils import np_utils\n",
        "from keras.optimizers import SGD\n",
        "from keras.datasets import mnist\n",
        "import tensorflow as tf\n",
        "from IPython.display import Image\n",
        "from tensorflow.keras.optimizers import Adam\n",
        "import numpy\n",
        "import pandas as pd\n",
        "import numpy as np\n",
        "import matplotlib.pyplot as plt\n",
        "import matplotlib.image as mpimg\n",
        "import seaborn as sns\n",
        "%matplotlib inline\n",
        "from sklearn.model_selection import train_test_split\n",
        "from sklearn.metrics import confusion_matrix\n",
        "import itertools\n",
        "############################################################################\n",
        "\n",
        "\n",
        "numpy.random.seed(7)"
      ]
    },
    {
      "cell_type": "code",
      "execution_count": 2,
      "metadata": {
        "id": "ps_VDAfDSDeS"
      },
      "outputs": [],
      "source": [
        "#Creates plot for loss and trainning functions\n",
        "def plot_(history):\n",
        "    training_loss1 = history.history['loss']\n",
        "    test_loss1 = history.history['val_loss']\n",
        "    epoch_count = range(1, len(training_loss1) + 1)\n",
        "    plt.plot(epoch_count, training_loss1, 'r--')\n",
        "    plt.plot(epoch_count, test_loss1, 'b-')\n",
        "    plt.legend(['Training Loss', 'Test Loss'])\n",
        "    plt.xlabel('Epoch')\n",
        "    plt.ylabel('Loss')\n",
        "    plt.show();"
      ]
    },
    {
      "cell_type": "code",
      "execution_count": 3,
      "metadata": {
        "id": "16Fw6KWySDeT"
      },
      "outputs": [],
      "source": [
        "\n",
        "############################################################################\n",
        "def X_1(x):\n",
        "    return (K.pow(x,1))\n",
        "get_custom_objects().update({'X_1': Activation(X_1)})\n",
        "############################################################################\n",
        "def X_2(x):\n",
        "    return (K.pow(x,2))/2\n",
        "get_custom_objects().update({'X_2': Activation(X_2)})\n",
        "############################################################################\n",
        "def X_3(x):\n",
        "    return (K.pow(x,3))/6\n",
        "get_custom_objects().update({'X_3': Activation(X_3)})\n",
        "############################################################################\n",
        "def X_4(x):\n",
        "    return (K.pow(x,4))/24\n",
        "get_custom_objects().update({'X_4': Activation(X_4)})\n",
        "############################################################################\n",
        "def X_6(x):\n",
        "    return (K.pow(x,6))/720\n",
        "get_custom_objects().update({'X_6': Activation(X_6)})\n",
        "###############################################################################\n",
        "def X_5(x):\n",
        "    return (K.pow(x,5))/120\n",
        "get_custom_objects().update({'X_5': Activation(X_5)})\n",
        "###############################################################################\n",
        "def X_8(x):\n",
        "    return (K.pow(x,8))/40320\n",
        "get_custom_objects().update({'X_8': Activation(X_8)})\n",
        "###############################################################################\n",
        "def X_7(x):\n",
        "    return (K.pow(x,7))/5040\n",
        "get_custom_objects().update({'X_7': Activation(X_7)})\n",
        "###############################################################################\n"
      ]
    },
    {
      "cell_type": "code",
      "execution_count": 4,
      "metadata": {
        "id": "tkz7ZdgkSDeU",
        "outputId": "0ccd6ddc-ef63-46af-aab4-1d0c6b085046",
        "colab": {
          "base_uri": "https://localhost:8080/"
        }
      },
      "outputs": [
        {
          "output_type": "stream",
          "name": "stdout",
          "text": [
            "Downloading data from https://storage.googleapis.com/tensorflow/tf-keras-datasets/mnist.npz\n",
            "11490434/11490434 [==============================] - 0s 0us/step\n",
            "60000 train samples\n",
            "10000 test samples\n"
          ]
        }
      ],
      "source": [
        "\n",
        "batch_size = 128\n",
        "num_classes = 10\n",
        "epochs = 4\n",
        "\n",
        "# the data, split between train and test sets\n",
        "(x_train, y_train), (x_test, y_test) = mnist.load_data()\n",
        "\n",
        "x_train = x_train.reshape(60000, 784)\n",
        "x_test = x_test.reshape(10000, 784)\n",
        "\n",
        "x_train = x_train.astype('float32')\n",
        "x_test = x_test.astype('float32')\n",
        "\n",
        "x_train = x_train+10\n",
        "x_test = x_test+10\n",
        "\n",
        "x_train /= 300\n",
        "x_test /= 300\n",
        "print(x_train.shape[0], 'train samples')\n",
        "print(x_test.shape[0], 'test samples')\n",
        "\n",
        "# convert class vectors to binary class matrices\n",
        "y_train = to_categorical(y_train, num_classes)\n",
        "y_test = to_categorical(y_test, num_classes)\n",
        "\n",
        "number_train=60000 \n",
        "number_test=10000\n",
        "\n",
        "x_train=x_train[0:number_train,:]\n",
        "x_test=x_test[0:number_test,:]\n",
        "\n",
        "y_train=y_train[0:number_train]\n",
        "y_test=y_test[0:number_test]"
      ]
    },
    {
      "cell_type": "code",
      "execution_count": 5,
      "metadata": {
        "id": "zYB4szkRSDeU",
        "outputId": "9c8ab14f-6cb2-41fa-f777-465a7a91b3d7",
        "colab": {
          "base_uri": "https://localhost:8080/",
          "height": 769
        }
      },
      "outputs": [
        {
          "output_type": "stream",
          "name": "stdout",
          "text": [
            "Model: \"sequential\"\n",
            "_________________________________________________________________\n",
            " Layer (type)                Output Shape              Param #   \n",
            "=================================================================\n",
            " dense (Dense)               (None, 1024)              803840    \n",
            "                                                                 \n",
            " dense_1 (Dense)             (None, 1024)              1049600   \n",
            "                                                                 \n",
            " dense_2 (Dense)             (None, 10)                10250     \n",
            "                                                                 \n",
            "=================================================================\n",
            "Total params: 1,863,690\n",
            "Trainable params: 1,863,690\n",
            "Non-trainable params: 0\n",
            "_________________________________________________________________\n"
          ]
        },
        {
          "output_type": "stream",
          "name": "stderr",
          "text": [
            "/usr/local/lib/python3.8/dist-packages/keras/optimizers/optimizer_v2/adam.py:110: UserWarning: The `lr` argument is deprecated, use `learning_rate` instead.\n",
            "  super(Adam, self).__init__(name, **kwargs)\n"
          ]
        },
        {
          "output_type": "stream",
          "name": "stdout",
          "text": [
            "Epoch 1/4\n",
            "469/469 [==============================] - 26s 53ms/step - loss: 0.0106 - accuracy: 0.9295 - val_loss: 0.0072 - val_accuracy: 0.9533\n",
            "Epoch 2/4\n",
            "469/469 [==============================] - 17s 37ms/step - loss: 0.0050 - accuracy: 0.9678 - val_loss: 0.0043 - val_accuracy: 0.9720\n",
            "Epoch 3/4\n",
            "469/469 [==============================] - 17s 37ms/step - loss: 0.0036 - accuracy: 0.9772 - val_loss: 0.0037 - val_accuracy: 0.9771\n",
            "Epoch 4/4\n",
            "469/469 [==============================] - 17s 37ms/step - loss: 0.0030 - accuracy: 0.9811 - val_loss: 0.0037 - val_accuracy: 0.9766\n",
            "78.706085271\n",
            "Test loss: 0.0036574131809175014\n",
            "Test accuracy: 0.9765999913215637\n"
          ]
        },
        {
          "output_type": "display_data",
          "data": {
            "text/plain": [
              "<Figure size 432x288 with 1 Axes>"
            ],
            "image/png": "[encoded data removed]"
          },
          "metadata": {
            "needs_background": "light"
          }
        }
      ],
      "source": [
        "num_classes = 10\n",
        "\n",
        "model = Sequential()\n",
        "model.add(Dense(1024, activation='relu', input_shape=(784,)))\n",
        "model.add(Dense(1024, activation='relu'))\n",
        "model.add(Dense(num_classes, activation='softmax'))\n",
        "\n",
        "model.summary()\n",
        "optimizer =Adam(lr=0.001, beta_1=0.9, beta_2=0.999, epsilon=None, decay=0.0, amsgrad=False)\n",
        "\n",
        "model.compile(loss='mean_squared_error', optimizer=optimizer,metrics=['accuracy'])\n",
        "start = timeit.default_timer()\n",
        "history = model.fit(x_train, y_train,batch_size=batch_size,epochs=epochs,verbose=1,validation_data=(x_test, y_test))\n",
        "end = timeit.default_timer()\n",
        "print(end-start)\n",
        "score = model.evaluate(x_test, y_test, verbose=0)\n",
        "print('Test loss:', score[0])\n",
        "print('Test accuracy:', score[1])\n",
        "plot_(history)\n"
      ]
    },
    {
      "cell_type": "code",
      "execution_count": 6,
      "metadata": {
        "id": "giuSHFzNSDeV",
        "outputId": "dee7e09a-50e3-455e-ffef-38a2fd36a7cd",
        "colab": {
          "base_uri": "https://localhost:8080/",
          "height": 886
        }
      },
      "outputs": [
        {
          "output_type": "stream",
          "name": "stdout",
          "text": [
            "Model: \"model\"\n",
            "__________________________________________________________________________________________________\n",
            " Layer (type)                   Output Shape         Param #     Connected to                     \n",
            "==================================================================================================\n",
            " input_1 (InputLayer)           [(None, 784)]        0           []                               \n",
            "                                                                                                  \n",
            " dense_3 (Dense)                (None, 500)          392500      ['input_1[0][0]']                \n",
            "                                                                                                  \n",
            " dense_4 (Dense)                (None, 500)          392500      ['input_1[0][0]']                \n",
            "                                                                                                  \n",
            " dense_5 (Dense)                (None, 500)          392500      ['input_1[0][0]']                \n",
            "                                                                                                  \n",
            " concatenate (Concatenate)      (None, 2284)         0           ['input_1[0][0]',                \n",
            "                                                                  'dense_3[0][0]',                \n",
            "                                                                  'dense_4[0][0]',                \n",
            "                                                                  'dense_5[0][0]']                \n",
            "                                                                                                  \n",
            " dense_6 (Dense)                (None, 10)           22850       ['concatenate[0][0]']            \n",
            "                                                                                                  \n",
            "==================================================================================================\n",
            "Total params: 1,200,350\n",
            "Trainable params: 1,200,350\n",
            "Non-trainable params: 0\n",
            "__________________________________________________________________________________________________\n",
            "Epoch 1/4\n",
            "469/469 [==============================] - 11s 22ms/step - loss: 0.0277 - accuracy: 0.9176 - val_loss: 0.0154 - val_accuracy: 0.9655\n",
            "Epoch 2/4\n",
            "469/469 [==============================] - 10s 22ms/step - loss: 0.0142 - accuracy: 0.9711 - val_loss: 0.0131 - val_accuracy: 0.9743\n",
            "Epoch 3/4\n",
            "469/469 [==============================] - 10s 22ms/step - loss: 0.0118 - accuracy: 0.9794 - val_loss: 0.0116 - val_accuracy: 0.9763\n",
            "Epoch 4/4\n",
            "469/469 [==============================] - 11s 24ms/step - loss: 0.0104 - accuracy: 0.9838 - val_loss: 0.0110 - val_accuracy: 0.9774\n",
            "42.86076234999999\n",
            "Test loss: 0.010990242473781109\n",
            "Test accuracy: 0.977400004863739\n"
          ]
        },
        {
          "output_type": "display_data",
          "data": {
            "text/plain": [
              "<Figure size 432x288 with 1 Axes>"
            ],
            "image/png": "[encoded data removed]"
          },
          "metadata": {
            "needs_background": "light"
          }
        }
      ],
      "source": [
        "\n",
        "hidden_dimention=500\n",
        "model = Sequential()\n",
        "in_ = Input(shape=(784,))\n",
        "\n",
        "\n",
        "# this is a logistic regression in Keras\n",
        "############################################################\n",
        "Layer_1_Act_X_1=Dense(hidden_dimention, activation='X_1')(in_)\n",
        "################################################################\n",
        "Layer_1_Act_X_2=Dense(hidden_dimention, activation='X_2')(in_)\n",
        "###############################################################\n",
        "Layer_1_Act_X_3=Dense(hidden_dimention, activation='X_3')(in_)\n",
        "###############################################################\n",
        "Concatenate_All_Layer = concatenate([in_,Layer_1_Act_X_1,Layer_1_Act_X_2,Layer_1_Act_X_3])\n",
        "\n",
        "Out_Put=Dense(10, activation='linear')(Concatenate_All_Layer)\n",
        "model = Model(in_ , Out_Put)\n",
        "model.summary()\n",
        "\n",
        "optimizer =Adam(lr=0.001, beta_1=0.9, beta_2=0.999, epsilon=None, decay=0.0, amsgrad=False)\n",
        "\n",
        "model.compile(loss='mean_squared_error', optimizer=optimizer,metrics=['accuracy'])\n",
        "start = timeit.default_timer()\n",
        "history = model.fit(x_train, y_train,batch_size=batch_size,epochs=epochs,verbose=1,validation_data=(x_test, y_test))\n",
        "end = timeit.default_timer()\n",
        "print(end-start)\n",
        "\n",
        "score = model.evaluate(x_test, y_test, verbose=0)\n",
        "print('Test loss:', score[0])\n",
        "print('Test accuracy:', score[1])\n",
        "plot_(history)\n"
      ]
    },
    {
      "cell_type": "code",
      "execution_count": 8,
      "metadata": {
        "id": "3vDZlChRSDeV",
        "outputId": "5af5ffdd-1bc2-4e6e-c329-d8744e4ce222",
        "colab": {
          "base_uri": "https://localhost:8080/",
          "height": 1000
        }
      },
      "outputs": [
        {
          "output_type": "stream",
          "name": "stdout",
          "text": [
            "Model: \"model_2\"\n",
            "__________________________________________________________________________________________________\n",
            " Layer (type)                   Output Shape         Param #     Connected to                     \n",
            "==================================================================================================\n",
            " input_3 (InputLayer)           [(None, 784)]        0           []                               \n",
            "                                                                                                  \n",
            " dense_16 (Dense)               (None, 500)          392500      ['input_3[0][0]']                \n",
            "                                                                                                  \n",
            " dense_17 (Dense)               (None, 500)          392500      ['input_3[0][0]']                \n",
            "                                                                                                  \n",
            " dense_18 (Dense)               (None, 500)          392500      ['input_3[0][0]']                \n",
            "                                                                                                  \n",
            " dense_19 (Dense)               (None, 500)          392500      ['input_3[0][0]']                \n",
            "                                                                                                  \n",
            " dense_20 (Dense)               (None, 500)          392500      ['input_3[0][0]']                \n",
            "                                                                                                  \n",
            " dense_21 (Dense)               (None, 500)          392500      ['input_3[0][0]']                \n",
            "                                                                                                  \n",
            " dense_22 (Dense)               (None, 500)          392500      ['input_3[0][0]']                \n",
            "                                                                                                  \n",
            " dense_23 (Dense)               (None, 500)          392500      ['input_3[0][0]']                \n",
            "                                                                                                  \n",
            " concatenate_2 (Concatenate)    (None, 4000)         0           ['dense_16[0][0]',               \n",
            "                                                                  'dense_17[0][0]',               \n",
            "                                                                  'dense_18[0][0]',               \n",
            "                                                                  'dense_19[0][0]',               \n",
            "                                                                  'dense_20[0][0]',               \n",
            "                                                                  'dense_21[0][0]',               \n",
            "                                                                  'dense_22[0][0]',               \n",
            "                                                                  'dense_23[0][0]']               \n",
            "                                                                                                  \n",
            " dense_24 (Dense)               (None, 10)           40010       ['concatenate_2[0][0]']          \n",
            "                                                                                                  \n",
            "==================================================================================================\n",
            "Total params: 3,180,010\n",
            "Trainable params: 3,180,010\n",
            "Non-trainable params: 0\n",
            "__________________________________________________________________________________________________\n",
            "Epoch 1/4\n",
            "469/469 [==============================] - 31s 64ms/step - loss: 0.0220 - accuracy: 0.9362 - val_loss: 0.0145 - val_accuracy: 0.9691\n",
            "Epoch 2/4\n",
            "469/469 [==============================] - 28s 61ms/step - loss: 0.0123 - accuracy: 0.9757 - val_loss: 0.0124 - val_accuracy: 0.9746\n",
            "Epoch 3/4\n",
            "469/469 [==============================] - 28s 61ms/step - loss: 0.0102 - accuracy: 0.9826 - val_loss: 0.0104 - val_accuracy: 0.9765\n",
            "Epoch 4/4\n",
            "469/469 [==============================] - 28s 61ms/step - loss: 0.0090 - accuracy: 0.9863 - val_loss: 0.0098 - val_accuracy: 0.9790\n",
            "116.29391751000003\n",
            "Test loss: 0.009786386974155903\n",
            "Test accuracy: 0.9789999723434448\n"
          ]
        },
        {
          "output_type": "display_data",
          "data": {
            "text/plain": [
              "<Figure size 432x288 with 1 Axes>"
            ],
            "image/png": "[encoded data removed]"
          },
          "metadata": {
            "needs_background": "light"
          }
        }
      ],
      "source": [
        "\n",
        "hidden_dimention=500\n",
        "model = Sequential()\n",
        "\n",
        "in_ = Input(shape=(784,))\n",
        "Layer_1_Act_X_1=Dense(hidden_dimention, activation='X_1')(in_)\n",
        "################################################################\n",
        "Layer_1_Act_X_2=Dense(hidden_dimention, activation='X_2')(in_)\n",
        "###############################################################\n",
        "Layer_1_Act_X_3=Dense(hidden_dimention, activation='X_3')(in_)\n",
        "###############################################################\n",
        "Layer_1_Act_X_4=Dense(hidden_dimention, activation='X_4')(in_)\n",
        "###############################################################\n",
        "Layer_1_Act_X_5=Dense(hidden_dimention, activation='X_5')(in_)\n",
        "###############################################################\n",
        "Layer_1_Act_X_6=Dense(hidden_dimention, activation='X_6')(in_)\n",
        "###############################################################\n",
        "Layer_1_Act_X_7=Dense(hidden_dimention, activation='X_7')(in_)\n",
        "###############################################################\n",
        "Layer_1_Act_X_8=Dense(hidden_dimention, activation='X_8')(in_)\n",
        "###############################################################\n",
        "Concatenate_First_Layer = concatenate([Layer_1_Act_X_1,Layer_1_Act_X_2,Layer_1_Act_X_3,Layer_1_Act_X_4,Layer_1_Act_X_5,Layer_1_Act_X_6,Layer_1_Act_X_7,Layer_1_Act_X_8])\n",
        "\n",
        "Out_put=Dense(10, activation='linear')(Concatenate_First_Layer)\n",
        "model = Model(in_ , Out_put)\n",
        "model.summary()\n",
        "\n",
        "optimizer =Adam(lr=0.001, beta_1=0.9, beta_2=0.999, epsilon=None, decay=0.0, amsgrad=False)\n",
        "\n",
        "model.compile(loss='mean_squared_error', optimizer=optimizer,metrics=['accuracy'])\n",
        "# Image(filename='model_2_layers.png')\n",
        "\n",
        "start = timeit.default_timer()\n",
        "history = model.fit(x_train, y_train,batch_size=batch_size,epochs=epochs,verbose=1,validation_data=(x_test, y_test))\n",
        "end = timeit.default_timer()\n",
        "print(end-start)\n",
        "\n",
        "\n",
        "score = model.evaluate(x_test, y_test, verbose=0)\n",
        "print('Test loss:', score[0])\n",
        "print('Test accuracy:', score[1])\n",
        "plot_(history)\n"
      ]
    },
    {
      "cell_type": "code",
      "execution_count": 10,
      "metadata": {
        "id": "WCz03_eBSDeW"
      },
      "outputs": [],
      "source": [
        "# hidden_dimention=500\n",
        "# model = Sequential()\n",
        "\n",
        "# in_ = Input(shape=(784,))\n",
        "\n",
        "# Layer_1_Act_X_1=Dense(hidden_dimention, activation='X_1')(in_)\n",
        "# ################################################################\n",
        "# Layer_1_Act_X_2=Dense(hidden_dimention,  activation='X_2')(in_)\n",
        "# ###############################################################\n",
        "# Layer_1_Act_X_3=Dense(hidden_dimention,  activation='X_3')(in_)\n",
        "# ###############################################################\n",
        "# Concatenate_First_Layer = concatenate([Layer_1_Act_X_1,Layer_1_Act_X_2,Layer_1_Act_X_3])\n",
        "# ################################################################\n",
        "# Layer_2_Act_X_2=Dense(hidden_dimention, activation='X_2')(Concatenate_First_Layer)\n",
        "# Layer_3_Act_X_2=Dense(hidden_dimention, activation='X_2')(Layer_2_Act_X_2)\n",
        "# Layer_4_Act_X_2=Dense(hidden_dimention, activation='X_2')(Layer_3_Act_X_2)\n",
        "# Layer_5_Act_X_2=Dense(hidden_dimention, activation='X_2')(Layer_4_Act_X_2)\n",
        "# Layer_6_Act_X_2=Dense(hidden_dimention, activation='X_2')(Layer_5_Act_X_2)\n",
        "# Layer_8_Act_X_2=Dense(hidden_dimention, activation='X_2')(Layer_6_Act_X_2)\n",
        "\n",
        "# Concatenate_All_Layer = concatenate([in_,Layer_1_Act_X_1,Layer_1_Act_X_2,Layer_1_Act_X_3,Layer_2_Act_X_2,Layer_3_Act_X_2])\n",
        "\n",
        "\n",
        "# Out_put=Dense(10, activation='linear')(Concatenate_All_Layer)\n",
        "\n",
        "# model = Model(in_ , Out_put)\n",
        "\n",
        "# model.summary()\n",
        "\n",
        "# optimizer =Adam(lr=0.001, beta_1=0.9, beta_2=0.999, epsilon=None, decay=0.0, amsgrad=False)\n",
        "\n",
        "# model.compile(loss='mean_squared_error', optimizer=optimizer,metrics=['accuracy'])\n",
        "\n",
        "# start = timeit.default_timer()\n",
        "# history = model.fit(x_train, y_train,batch_size=batch_size,epochs=epochs,verbose=1,validation_data=(x_test, y_test))\n",
        "# end = timeit.default_timer()\n",
        "# print(end-start)\n",
        "\n",
        "\n",
        "# score = model.evaluate(x_test, y_test, verbose=0)\n",
        "# print('Test loss:', score[0])\n",
        "# print('Test accuracy:', score[1])\n",
        "# plot_(history)\n",
        "\n",
        "\n"
      ]
    },
    {
      "cell_type": "code",
      "execution_count": null,
      "metadata": {
        "id": "aUgGrdgsSDeX"
      },
      "outputs": [],
      "source": []
    }
  ],
  "metadata": {
    "kernelspec": {
      "display_name": "Python 3",
      "language": "python",
      "name": "python3"
    },
    "language_info": {
      "codemirror_mode": {
        "name": "ipython",
        "version": 3
      },
      "file_extension": ".py",
      "mimetype": "text/x-python",
      "name": "python",
      "nbconvert_exporter": "python",
      "pygments_lexer": "ipython3",
      "version": "3.6.5"
    },
    "colab": {
      "provenance": [],
      "include_colab_link": true
    }
  },
  "nbformat": 4,
  "nbformat_minor": 0
}
{
 "cells": [
  {
   "cell_type": "code",
   "execution_count": 1,
   "metadata": {},
   "outputs": [
    {
     "name": "stderr",
     "output_type": "stream",
     "text": [
      "C:\\Users\\BRG_user\\Anaconda3\\lib\\site-packages\\h5py\\__init__.py:36: FutureWarning: Conversion of the second argument of issubdtype from `float` to `np.floating` is deprecated. In future, it will be treated as `np.float64 == np.dtype(float).type`.\n",
      "  from ._conv import register_converters as _register_converters\n",
      "Using TensorFlow backend.\n"
     ]
    }
   ],
   "source": [
    "# in this example we compare 1 CNN Layer with the implimentation of CNN with SWAG.\n",
    "# we use this dataset CIFAR100 small image classification\n",
    "# https://keras.io/datasets/\n",
    "############################################################################\n",
    "import timeit\n",
    "from keras.models import Model,Sequential\n",
    "from keras.layers import Input, Embedding, LSTM, Dense,concatenate,  Dropout, Flatten, Conv2D, MaxPool2D, Activation,MaxPooling2D\n",
    "from keras.utils.np_utils import to_categorical # convert to one-hot-encoding\n",
    "from keras.optimizers import RMSprop, adam\n",
    "from keras.preprocessing.image import ImageDataGenerator\n",
    "from keras.callbacks import ReduceLROnPlateau\n",
    "from keras import backend as K\n",
    "from keras.utils.generic_utils import get_custom_objects\n",
    "from keras.datasets import cifar10\n",
    "from keras.utils import np_utils\n",
    "from keras.optimizers import SGD\n",
    "from keras.datasets import mnist\n",
    "import tensorflow as tf\n",
    "\n",
    "\n",
    "import numpy\n",
    "import pandas as pd\n",
    "import numpy as np\n",
    "import matplotlib.pyplot as plt\n",
    "import matplotlib.image as mpimg\n",
    "import seaborn as sns\n",
    "%matplotlib inline\n",
    "from sklearn.model_selection import train_test_split\n",
    "from sklearn.metrics import confusion_matrix\n",
    "import itertools\n",
    "############################################################################\n",
    "\n",
    "numpy.random.seed(7)"
   ]
  },
  {
   "cell_type": "code",
   "execution_count": 2,
   "metadata": {},
   "outputs": [],
   "source": [
    "\n",
    "############################################################################\n",
    "def X_1(x):\n",
    "    return (K.pow(x,1))\n",
    "get_custom_objects().update({'X_1': Activation(X_1)})\n",
    "############################################################################\n",
    "def X_2(x):\n",
    "    return (K.pow(x,2))/2\n",
    "get_custom_objects().update({'X_2': Activation(X_2)})\n",
    "############################################################################\n",
    "def X_3(x):\n",
    "    return (K.pow(x,3))/6\n",
    "get_custom_objects().update({'X_3': Activation(X_3)})\n",
    "############################################################################\n",
    "def X_4(x):\n",
    "    return (K.pow(x,4))/24\n",
    "get_custom_objects().update({'X_4': Activation(X_4)})\n",
    "############################################################################\n",
    "def X_5(x):\n",
    "    return (K.pow(x,5))/120\n",
    "get_custom_objects().update({'X_5': Activation(X_5)})\n",
    "###############################################################################\n"
   ]
  },
  {
   "cell_type": "code",
   "execution_count": 3,
   "metadata": {},
   "outputs": [],
   "source": [
    "#Creates plot for loss and trainning functions\n",
    "def plot_(history):\n",
    "    training_loss1 = history.history['loss']\n",
    "    test_loss1 = history.history['val_loss']\n",
    "    epoch_count = range(1, len(training_loss1) + 1)\n",
    "    plt.plot(epoch_count, training_loss1, 'r--')\n",
    "    plt.plot(epoch_count, test_loss1, 'b-')\n",
    "    plt.legend(['Training Loss', 'Test Loss'])\n",
    "    plt.xlabel('Epoch')\n",
    "    plt.ylabel('Loss')\n",
    "    plt.show();"
   ]
  },
  {
   "cell_type": "code",
   "execution_count": 4,
   "metadata": {},
   "outputs": [],
   "source": [
    "(X_train, y_train), (X_test, y_test) = cifar10.load_data()\n",
    "\n",
    "number_train=50000\n",
    "number_test=10000\n",
    "X_train=X_train[0:number_train,:,:,:]\n",
    "y_train=y_train[0:number_train]\n",
    "X_test=X_test[0:number_test,:,:,:]\n",
    "y_test=y_test[0:number_test]\n",
    "\n",
    "X_train = X_train.astype('float32')\n",
    "X_test = X_test.astype('float32')\n",
    "X_train = X_train / 300.0\n",
    "X_test = X_test / 300.0\n",
    "\n",
    "y_train = np_utils.to_categorical(y_train)\n",
    "y_test = np_utils.to_categorical(y_test)"
   ]
  },
  {
   "cell_type": "code",
   "execution_count": 5,
   "metadata": {},
   "outputs": [],
   "source": [
    "epochs=4"
   ]
  },
  {
   "cell_type": "code",
   "execution_count": 6,
   "metadata": {},
   "outputs": [
    {
     "name": "stdout",
     "output_type": "stream",
     "text": [
      "Train on 50000 samples, validate on 10000 samples\n",
      "Epoch 1/4\n",
      "50000/50000 [==============================] - 67s 1ms/step - loss: 1.6796 - acc: 0.4102 - val_loss: 1.5166 - val_acc: 0.4659\n",
      "Epoch 2/4\n",
      "50000/50000 [==============================] - 67s 1ms/step - loss: 1.4687 - acc: 0.4893 - val_loss: 1.4273 - val_acc: 0.5004\n",
      "Epoch 3/4\n",
      "50000/50000 [==============================] - 64s 1ms/step - loss: 1.4130 - acc: 0.5101 - val_loss: 1.4051 - val_acc: 0.5100\n",
      "Epoch 4/4\n",
      "50000/50000 [==============================] - 62s 1ms/step - loss: 1.3797 - acc: 0.5223 - val_loss: 1.3790 - val_acc: 0.5194\n",
      "Test loss: 1.3789706859588624\n",
      "Test accuracy: 0.5194\n"
     ]
    },
    {
     "data": {
      "image/png": "[encoded data removed]",
      "text/plain": [
       "<Figure size 432x288 with 1 Axes>"
      ]
     },
     "metadata": {},
     "output_type": "display_data"
    }
   ],
   "source": [
    "\n",
    "########################################################################\n",
    "input_img = Input(shape = (32, 32, 3))\n",
    "tower_1 = Conv2D(64, (1,1), padding='same', activation='relu')(input_img)\n",
    "tower_3 = MaxPooling2D((3,3), strides=(1,1), padding='same')(tower_1)\n",
    "output = Flatten()(tower_3)\n",
    "########################################################################\n",
    "out    = Dense(10, activation='softmax')(output)\n",
    "\n",
    "model = Model(inputs = input_img, outputs = out)\n",
    "########################################################################\n",
    "lrate = 0.01\n",
    "decay = lrate/epochs\n",
    "sgd = SGD(lr=lrate, momentum=0.9, decay=decay, nesterov=False)\n",
    "model.compile(loss='categorical_crossentropy', optimizer=sgd, metrics=['accuracy'])\n",
    "history=model.fit(X_train, y_train, validation_data=(X_test, y_test), epochs=epochs, batch_size=32)\n",
    "score = model.evaluate(X_test, y_test, verbose=0)\n",
    "print('Test loss:', score[0])\n",
    "print('Test accuracy:', score[1])\n",
    "plot_(history)\n"
   ]
  },
  {
   "cell_type": "code",
   "execution_count": 7,
   "metadata": {},
   "outputs": [
    {
     "name": "stdout",
     "output_type": "stream",
     "text": [
      "__________________________________________________________________________________________________\n",
      "Layer (type)                    Output Shape         Param #     Connected to                     \n",
      "==================================================================================================\n",
      "input_2 (InputLayer)            (None, 32, 32, 3)    0                                            \n",
      "__________________________________________________________________________________________________\n",
      "conv2d_2 (Conv2D)               (None, 32, 32, 64)   256         input_2[0][0]                    \n",
      "__________________________________________________________________________________________________\n",
      "conv2d_3 (Conv2D)               (None, 32, 32, 64)   256         input_2[0][0]                    \n",
      "__________________________________________________________________________________________________\n",
      "conv2d_4 (Conv2D)               (None, 32, 32, 64)   256         input_2[0][0]                    \n",
      "__________________________________________________________________________________________________\n",
      "concatenate_1 (Concatenate)     (None, 32, 32, 192)  0           conv2d_2[0][0]                   \n",
      "                                                                 conv2d_3[0][0]                   \n",
      "                                                                 conv2d_4[0][0]                   \n",
      "__________________________________________________________________________________________________\n",
      "dense_2 (Dense)                 (None, 32, 32, 10)   1930        concatenate_1[0][0]              \n",
      "__________________________________________________________________________________________________\n",
      "max_pooling2d_2 (MaxPooling2D)  (None, 32, 32, 10)   0           dense_2[0][0]                    \n",
      "__________________________________________________________________________________________________\n",
      "flatten_2 (Flatten)             (None, 10240)        0           max_pooling2d_2[0][0]            \n",
      "__________________________________________________________________________________________________\n",
      "dense_3 (Dense)                 (None, 10)           102410      flatten_2[0][0]                  \n",
      "==================================================================================================\n",
      "Total params: 105,108\n",
      "Trainable params: 105,108\n",
      "Non-trainable params: 0\n",
      "__________________________________________________________________________________________________\n",
      "Train on 50000 samples, validate on 10000 samples\n",
      "Epoch 1/4\n",
      "50000/50000 [==============================] - 154s 3ms/step - loss: 1.6260 - acc: 0.4298 - val_loss: 1.4758 - val_acc: 0.4899\n",
      "Epoch 2/4\n",
      "50000/50000 [==============================] - 164s 3ms/step - loss: 1.4421 - acc: 0.4987 - val_loss: 1.4285 - val_acc: 0.5022\n",
      "Epoch 3/4\n",
      "50000/50000 [==============================] - 171s 3ms/step - loss: 1.3989 - acc: 0.5179 - val_loss: 1.4097 - val_acc: 0.5128\n",
      "Epoch 4/4\n",
      "50000/50000 [==============================] - 179s 4ms/step - loss: 1.3741 - acc: 0.5265 - val_loss: 1.4057 - val_acc: 0.5085\n",
      "Test loss: 1.405665087890625\n",
      "Test accuracy: 0.5085\n"
     ]
    },
    {
     "data": {
      "image/png": "[encoded data removed]",
      "text/plain": [
       "<Figure size 432x288 with 1 Axes>"
      ]
     },
     "metadata": {},
     "output_type": "display_data"
    }
   ],
   "source": [
    "\n",
    "# impliment the CNN layer with SWAG algorithm\n",
    "# note that these 3 layers must be in 1 Layer . But we do not have this \n",
    "# technology right now. So we have to impliment it in this way.\n",
    "# thats why SWAG is slow in CNN\n",
    "#please note that in this example we use 3 terms x powr 1 , x power 2, x power 3\n",
    "# this example is a proof of concept\n",
    "########################################################################\n",
    "input_img = Input(shape = (32, 32, 3))\n",
    "tower_1 = Conv2D(64, (1,1), padding='same', activation='X_1')(input_img)\n",
    "tower_2 = Conv2D(64, (1,1), padding='same', activation='X_2')(input_img)\n",
    "tower_3 = Conv2D(64, (1,1), padding='same', activation='X_3')(input_img)\n",
    "concatenate_3_Layers= concatenate([tower_1,tower_2,tower_3])\n",
    "Out_put_SWAG = Dense(10, activation='linear')(concatenate_3_Layers)\n",
    "########################################################################\n",
    "tower_3 = MaxPooling2D((3,3), strides=(1,1), padding='same')(Out_put_SWAG)\n",
    "output = Flatten()(tower_3)\n",
    "out    = Dense(10, activation='softmax')(output)\n",
    "model = Model(inputs = input_img, outputs = out)\n",
    "########################################################################\n",
    "lrate = 0.01\n",
    "decay = lrate/epochs\n",
    "sgd = SGD(lr=lrate, momentum=0.9, decay=decay, nesterov=False)\n",
    "model.compile(loss='categorical_crossentropy', optimizer=sgd, metrics=['accuracy'])\n",
    "model.summary()\n",
    "history=model.fit(X_train, y_train, validation_data=(X_test, y_test), epochs=epochs, batch_size=32)\n",
    "score = model.evaluate(X_test, y_test, verbose=0)\n",
    "print('Test loss:', score[0])\n",
    "print('Test accuracy:', score[1])\n",
    "plot_(history)\n"
   ]
  }
 ],
 "metadata": {
  "kernelspec": {
   "display_name": "Python 3",
   "language": "python",
   "name": "python3"
  },
  "language_info": {
   "codemirror_mode": {
    "name": "ipython",
    "version": 3
   },
   "file_extension": ".py",
   "mimetype": "text/x-python",
   "name": "python",
   "nbconvert_exporter": "python",
   "pygments_lexer": "ipython3",
   "version": "3.6.5"
  }
 },
 "nbformat": 4,
 "nbformat_minor": 2
}
